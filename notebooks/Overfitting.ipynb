{
  "cells": [
    {
      "cell_type": "code",
      "execution_count": 1,
      "metadata": {},
      "outputs": [],
      "source": [
        "import numpy as np\n",
        "import matplotlib.pyplot as plt\n",
        "from sklearn.preprocessing import PolynomialFeatures\n",
        "from sklearn.linear_model import LinearRegression\n",
        "from sklearn.model_selection import train_test_split\n"
      ]
    },
    {
      "cell_type": "code",
      "execution_count": 2,
      "metadata": {},
      "outputs": [],
      "source": [
        "# Generate data with a quadratic relationship\n",
        "np.random.seed(42)\n",
        "X = np.random.rand(30, 1) * 10  # 30 random points between 0 and 10\n",
        "Y = X ** 2 + np.random.randn(30, 1) * 5  # Quadratic relation with noise\n",
        "\n",
        "# Split the data into training and test sets\n",
        "X_train, X_test, Y_train, Y_test = train_test_split(X, Y, test_size=0.3, random_state=42)\n"
      ]
    },
    {
      "cell_type": "code",
      "execution_count": 3,
      "metadata": {},
      "outputs": [],
      "source": [
        "# Fit a high-degree polynomial regression (degree 15) to cause overfitting\n",
        "poly = PolynomialFeatures(degree=15)\n",
        "X_poly_train = poly.fit_transform(X_train)\n",
        "\n",
        "model = LinearRegression()\n",
        "model.fit(X_poly_train, Y_train)\n"
      ]
    },
    {
      "cell_type": "code",
      "execution_count": 4,
      "metadata": {},
      "outputs": [],
      "source": [
        "# Predict on training and test data\n",
        "Y_train_pred = model.predict(X_poly_train)\n",
        "X_poly_test = poly.transform(X_test)\n",
        "Y_test_pred = model.predict(X_poly_test)\n"
      ]
    },
    {
      "cell_type": "code",
      "execution_count": 5,
      "metadata": {},
      "outputs": [],
      "source": [
        "# Plot the results\n",
        "X_range = np.linspace(0, 10, 100).reshape(-1, 1)\n",
        "Y_range_pred = model.predict(poly.transform(X_range))\n",
        "\n",
        "plt.figure(figsize=(8, 6))\n",
        "plt.scatter(X_train, Y_train, label='Training Data', color='blue', alpha=0.6)\n",
        "plt.scatter(X_test, Y_test, label='Test Data', color='green', alpha=0.6)\n",
        "plt.plot(X_range, Y_range_pred, color='red', label='Overfitted Model', linewidth=2)\n",
        "plt.xlabel('X')\n",
        "plt.ylabel('Y')\n",
        "plt.title('Overfitting Example: Polynomial Regression with Degree 15')\n",
        "plt.legend()\n",
        "plt.show()\n"
      ]
    }
  ],
  "metadata": {
    "kernelspec": {
      "display_name": "Python 3",
      "language": "python",
      "name": "python3"
    },
    "language_info": {
      "file_extension": ".py",
      "mimetype": "text/x-python",
      "name": "python",
      "version": "3.8"
    }
  },
  "nbformat": 4,
  "nbformat_minor": 4
}
