{
  "cells": [
    {
      "cell_type": "code",
      "execution_count": 1,
      "metadata": {},
      "outputs": [],
      "source": [
        "import numpy as np\n",
        "import matplotlib.pyplot as plt\n",
        "from sklearn.linear_model import LinearRegression\n"
      ]
    },
    {
      "cell_type": "code",
      "execution_count": 2,
      "metadata": {},
      "outputs": [],
      "source": [
        "# Generate non-linear data\n",
        "np.random.seed(42)\n",
        "X = np.random.rand(100, 1) * 10  # Random values between 0 and 10\n",
        "Y = X ** 2 + np.random.randn(100, 1) * 10  # Quadratic relation with noise\n"
      ]
    },
    {
      "cell_type": "code",
      "execution_count": 3,
      "metadata": {},
      "outputs": [],
      "source": [
        "# Fit a Linear Regression model\n",
        "model = LinearRegression()\n",
        "model.fit(X, Y)\n",
        "Y_pred = model.predict(X)\n"
      ]
    },
    {
      "cell_type": "code",
      "execution_count": 4,
      "metadata": {},
      "outputs": [],
      "source": [
        "# Plot the results with the true function\n",
        "X_range = np.linspace(0, 10, 100).reshape(-1, 1)\n",
        "Y_true = X_range ** 2  # True function without noise\n",
        "\n",
        "plt.figure(figsize=(8, 6))\n",
        "plt.scatter(X, Y, label='Actual Data', alpha=0.6)\n",
        "plt.plot(X, Y_pred, color='red', label='Linear Model Prediction', linewidth=2)\n",
        "plt.plot(X_range, Y_true, color='green', linestyle='dashed', label='True Function (Y = X²)', linewidth=2)\n",
        "plt.xlabel('X')\n",
        "plt.ylabel('Y')\n",
        "plt.title('Underfitting Example: Linear Model on Non-Linear Data')\n",
        "plt.legend()\n",
        "plt.show()\n"
      ]
    }
  ],
  "metadata": {
    "kernelspec": {
      "display_name": "Python 3",
      "language": "python",
      "name": "python3"
    },
    "language_info": {
      "file_extension": ".py",
      "mimetype": "text/x-python",
      "name": "python",
      "version": "3.8"
    }
  },
  "nbformat": 4,
  "nbformat_minor": 4
}
