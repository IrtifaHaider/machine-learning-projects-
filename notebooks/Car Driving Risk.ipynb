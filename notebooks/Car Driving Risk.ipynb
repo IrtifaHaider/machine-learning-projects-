{
  "cells": [
    {
      "cell_type": "code",
      "execution_count": 1,
      "metadata": {},
      "outputs": [],
      "source": [
        "# Import Libraries\n",
        "import warnings\n",
        "warnings.filterwarnings('ignore')\n",
        "import numpy as np\n",
        "import pandas as pd\n",
        "import matplotlib.pyplot as plt\n",
        "import seaborn as sns\n",
        "from sklearn.linear_model import LinearRegression\n",
        "from sklearn.metrics import mean_squared_error, mean_absolute_error\n"
      ]
    },
    {
      "cell_type": "code",
      "execution_count": 2,
      "metadata": {},
      "outputs": [],
      "source": [
        "# Load the dataset\n",
        "df = pd.read_csv('car_driving_data.csv')\n",
        "df.head()"
      ]
    },
    {
      "cell_type": "code",
      "execution_count": 3,
      "metadata": {},
      "outputs": [],
      "source": [
        "# Check dataset shape\n",
        "df.shape"
      ]
    },
    {
      "cell_type": "code",
      "execution_count": 4,
      "metadata": {},
      "outputs": [],
      "source": [
        "# Descriptive statistics\n",
        "df.describe()"
      ]
    },
    {
      "cell_type": "code",
      "execution_count": 5,
      "metadata": {},
      "outputs": [],
      "source": [
        "# Check for missing values\n",
        "df.isnull().sum() * 100 / df.shape[0]"
      ]
    },
    {
      "cell_type": "code",
      "execution_count": 6,
      "metadata": {},
      "outputs": [],
      "source": [
        "# Visualize outliers using boxplots\n",
        "fig, axs = plt.subplots(3, figsize=(5, 5))\n",
        "sns.boxplot(df['Speed'], ax=axs[0])\n",
        "sns.boxplot(df['Distance'], ax=axs[1])\n",
        "sns.boxplot(df['Risk'], ax=axs[2])\n",
        "plt.tight_layout()"
      ]
    },
    {
      "cell_type": "code",
      "execution_count": 7,
      "metadata": {},
      "outputs": [],
      "source": [
        "# Scatter plot for Risk vs Speed and Distance\n",
        "plt.scatter(df['Speed'], df['Risk'], label='Speed')\n",
        "plt.scatter(df['Distance'], df['Risk'], label='Distance')\n",
        "plt.xlabel('Speed / Distance')\n",
        "plt.ylabel('Risk')\n",
        "plt.title('Speed and Distance vs Risk')\n",
        "plt.legend()\n",
        "plt.show()"
      ]
    },
    {
      "cell_type": "code",
      "execution_count": 8,
      "metadata": {},
      "outputs": [],
      "source": [
        "# Pairplot to visualize correlations\n",
        "sns.pairplot(df, x_vars=['Speed', 'Distance'], y_vars='Risk', height=4, kind='scatter')\n",
        "plt.show()"
      ]
    },
    {
      "cell_type": "code",
      "execution_count": 9,
      "metadata": {},
      "outputs": [],
      "source": [
        "# Correlation heatmap\n",
        "sns.heatmap(df.corr(), annot=True, cmap='YlGnBu')\n",
        "plt.show()"
      ]
    },
    {
      "cell_type": "code",
      "execution_count": 10,
      "metadata": {},
      "outputs": [],
      "source": [
        "# Prepare data for linear regression\n",
        "X = df[['Speed', 'Distance']]\n",
        "y = df['Risk']\n",
        "\n",
        "reg = LinearRegression()\n",
        "reg.fit(X, y)"
      ]
    },
    {
      "cell_type": "code",
      "execution_count": 11,
      "metadata": {},
      "outputs": [],
      "source": [
        "# Retrieve model parameters\n",
        "coefficients = reg.coef_\n",
        "intercept = reg.intercept_\n",
        "print(f'Coefficients: {coefficients}, Intercept: {intercept}')"
      ]
    },
    {
      "cell_type": "code",
      "execution_count": 12,
      "metadata": {},
      "outputs": [],
      "source": [
        "# Make predictions using the model\n",
        "predictions = reg.predict(X)\n",
        "df['Predicted_Risk'] = predictions\n",
        "df.head()"
      ]
    },
    {
      "cell_type": "code",
      "execution_count": 13,
      "metadata": {},
      "outputs": [],
      "source": [
        "# Evaluate the model\n",
        "mse = mean_squared_error(df['Risk'], df['Predicted_Risk'])\n",
        "mae = mean_absolute_error(df['Risk'], df['Predicted_Risk'])\n",
        "print(f'MSE: {mse}, MAE: {mae}')"
      ]
    },
    {
      "cell_type": "code",
      "execution_count": 14,
      "metadata": {},
      "outputs": [],
      "source": [
        "# Visualize the regression results\n",
        "plt.plot(df['Speed'], df['Predicted_Risk'], color='red', label='Regression Line')\n",
        "plt.scatter(df['Speed'], df['Risk'], label='Actual Data')\n",
        "plt.xlabel('Speed')\n",
        "plt.ylabel('Risk')\n",
        "plt.title('Speed vs Predicted Risk')\n",
        "plt.legend()\n",
        "plt.show()"
      ]
    },
    {
      "cell_type": "code",
      "execution_count": 15,
      "metadata": {},
      "outputs": [],
      "source": [
        "# Calculate R² score\n",
        "from sklearn.metrics import r2_score\n",
        "r2 = r2_score(df['Risk'], df['Predicted_Risk'])\n",
        "print(f'R² Score: {r2}')"
      ]
    }
  ],
  "metadata": {
    "kernelspec": {
      "display_name": "Python 3",
      "language": "python",
      "name": "python3"
    },
    "language_info": {
      "file_extension": ".py",
      "mimetype": "text/x-python",
      "name": "python",
      "version": "3.8"
    }
  },
  "nbformat": 4,
  "nbformat_minor": 4
}
