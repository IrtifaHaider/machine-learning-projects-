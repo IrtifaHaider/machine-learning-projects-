{
 "cells": [
  {
   "cell_type": "code",
   "execution_count": 1,
   "id": "69950662-1f51-4361-ba7a-c5857eb0c2b6",
   "metadata": {},
   "outputs": [],
   "source": [
    "import numpy as np\n",
    "import pandas as pd"
   ]
  },
  {
   "cell_type": "code",
   "execution_count": 2,
   "id": "86fee766-0f1b-47d5-bd5f-4532c111457c",
   "metadata": {},
   "outputs": [],
   "source": [
    "# Example data\n",
    "data = {\n",
    "    'Height': [150, 160, 170, 180, 190],\n",
    "    'Weight': [50, 60, 70, 80, 90]\n",
    "}\n",
    "df = pd.DataFrame(data)"
   ]
  },
  {
   "cell_type": "code",
   "execution_count": 3,
   "id": "e51c71b9-1528-4bda-a333-12cc4d61ccea",
   "metadata": {},
   "outputs": [
    {
     "name": "stdout",
     "output_type": "stream",
     "text": [
      "Pearson Correlation Matrix:\n",
      "        Height  Weight\n",
      "Height     1.0     1.0\n",
      "Weight     1.0     1.0\n"
     ]
    }
   ],
   "source": [
    "# Calculate Pearson Correlation Coefficient\n",
    "correlation_matrix = df.corr(method='pearson')\n",
    "print(\"Pearson Correlation Matrix:\")\n",
    "print(correlation_matrix)"
   ]
  },
  {
   "cell_type": "code",
   "execution_count": 4,
   "id": "860d4fd3-1331-45a5-9612-90fcc9c92111",
   "metadata": {},
   "outputs": [
    {
     "name": "stdout",
     "output_type": "stream",
     "text": [
      "Pearson Correlation between Height and Weight: 1.0\n"
     ]
    }
   ],
   "source": [
    "# Access the Pearson correlation between Height and Weight\n",
    "pearson_corr = correlation_matrix.loc['Height', 'Weight']\n",
    "print(f\"Pearson Correlation between Height and Weight: {pearson_corr}\")"
   ]
  },
  {
   "cell_type": "code",
   "execution_count": null,
   "id": "9180c7d0-bea0-4690-b99e-417d6e6f1d25",
   "metadata": {},
   "outputs": [],
   "source": []
  }
 ],
 "metadata": {
  "kernelspec": {
   "display_name": "Python 3 (ipykernel)",
   "language": "python",
   "name": "python3"
  },
  "language_info": {
   "codemirror_mode": {
    "name": "ipython",
    "version": 3
   },
   "file_extension": ".py",
   "mimetype": "text/x-python",
   "name": "python",
   "nbconvert_exporter": "python",
   "pygments_lexer": "ipython3",
   "version": "3.12.2"
  }
 },
 "nbformat": 4,
 "nbformat_minor": 5
}
