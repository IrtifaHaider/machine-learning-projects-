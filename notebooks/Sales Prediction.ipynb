{
 "cells": [
  {
   "cell_type": "code",
   "execution_count": 1,
   "metadata": {},
   "outputs": [],
   "source": [
    "# Suppress Warnings\n",
    "import warnings\n",
    "warnings.filterwarnings('ignore')\n",
    "\n",
    "# Import essential libraries\n",
    "import numpy as np\n",
    "import pandas as pd\n",
    "\n",
    "# Visualization libraries\n",
    "import matplotlib.pyplot as plt\n",
    "import seaborn as sns\n",
    "\n",
    "# Linear Regression model and metrics\n",
    "from sklearn.linear_model import LinearRegression\n",
    "from sklearn.metrics import mean_squared_error, mean_absolute_error\n"
   ]
  },
  {
   "cell_type": "code",
   "execution_count": 2,
   "metadata": {},
   "outputs": [],
   "source": [
    "# Load the dataset\n",
    "df = pd.read_csv(\"advertising.csv\")\n",
    "df"
   ]
  },
  {
   "cell_type": "code",
   "execution_count": 3,
   "metadata": {},
   "outputs": [],
   "source": [
    "# Check dataset shape\n",
    "df.shape"
   ]
  },
  {
   "cell_type": "code",
   "execution_count": 4,
   "metadata": {},
   "outputs": [],
   "source": [
    "# Descriptive statistics\n",
    "df.describe()"
   ]
  },
  {
   "cell_type": "code",
   "execution_count": 5,
   "metadata": {},
   "outputs": [],
   "source": [
    "# Check for missing values\n",
    "df.isnull().sum() * 100 / df.shape[0]"
   ]
  },
  {
   "cell_type": "code",
   "execution_count": 6,
   "metadata": {},
   "outputs": [],
   "source": [
    "# Visualize outliers using boxplots\n",
    "fig, axs = plt.subplots(3, figsize=(5, 5))\n",
    "sns.boxplot(df['TV'], ax=axs[0])\n",
    "sns.boxplot(df['Newspaper'], ax=axs[1])\n",
    "sns.boxplot(df['Radio'], ax=axs[2])\n",
    "plt.tight_layout()"
   ]
  },
  {
   "cell_type": "code",
   "execution_count": 7,
   "metadata": {},
   "outputs": [],
   "source": [
    "# Scatter plot for Sales vs Media Channels\n",
    "plt.scatter(df['TV'], df['Sales'], label='TV')\n",
    "plt.scatter(df['Radio'], df['Sales'], label='Radio')\n",
    "plt.scatter(df['Newspaper'], df['Sales'], label='Newspaper')\n",
    "plt.xlabel('Advertising Mediums')\n",
    "plt.ylabel('Sales')\n",
    "plt.title('Advertising Mediums vs Sales')\n",
    "plt.legend()\n",
    "plt.show()"
   ]
  },
  {
   "cell_type": "code",
   "execution_count": 8,
   "metadata": {},
   "outputs": [],
   "source": [
    "# Pairplot to visualize correlations\n",
    "sns.pairplot(df, x_vars=['TV', 'Radio', 'Newspaper'], y_vars='Sales', height=4, kind='scatter')\n",
    "plt.show()"
   ]
  },
  {
   "cell_type": "code",
   "execution_count": 9,
   "metadata": {},
   "outputs": [],
   "source": [
    "# Correlation heatmap\n",
    "sns.heatmap(df.corr(), annot=True, cmap='YlGnBu')\n",
    "plt.show()"
   ]
  },
  {
   "cell_type": "code",
   "execution_count": 10,
   "metadata": {},
   "outputs": [],
   "source": [
    "# Prepare data for linear regression\n",
    "x = df[['TV']]  # Feature\n",
    "s = df[['Sales']]  # Target\n",
    "\n",
    "reg = LinearRegression()\n",
    "reg.fit(x, s)"
   ]
  },
  {
   "cell_type": "code",
   "execution_count": 11,
   "metadata": {},
   "outputs": [],
   "source": [
    "# Retrieve model parameters\n",
    "m = reg.coef_\n",
    "c = reg.intercept_\n",
    "print(f'Slope: {m}, Intercept: {c}')"
   ]
  },
  {
   "cell_type": "code",
   "execution_count": 12,
   "metadata": {},
   "outputs": [],
   "source": [
    "# Predict sales for a TV spend of 177\n",
    "prediction = reg.predict([[177]])\n",
    "print(f'Predicted Sales: {prediction}')"
   ]
  },
  {
   "cell_type": "code",
   "execution_count": 13,
   "metadata": {},
   "outputs": [],
   "source": [
    "# Add predictions to the DataFrame\n",
    "df['Predicted_Y'] = reg.predict(x)\n",
    "df.head()"
   ]
  },
  {
   "cell_type": "code",
   "execution_count": 14,
   "metadata": {},
   "outputs": [],
   "source": [
    "# Calculate residuals (loss)\n",
    "df['lose'] = df['Sales'] - df['Predicted_Y']\n",
    "df.head()"
   ]
  },
  {
   "cell_type": "code",
   "execution_count": 15,
   "metadata": {},
   "outputs": [],
   "source": [
    "# Evaluate the model (MSE & MAE)\n",
    "mse = mean_squared_error(df['Sales'], df['Predicted_Y'])\n",
    "mae = mean_absolute_error(df['Sales'], df['Predicted_Y'])\n",
    "print(f'MSE: {mse}, MAE: {mae}')"
   ]
  },
  {
   "cell_type": "code",
   "execution_count": 16,
   "metadata": {},
   "outputs": [],
   "source": [
    "# Visualize the regression line\n",
    "plt.plot(x, reg.predict(x), color='red', label='Regression Line')\n",
    "plt.scatter(df['TV'], df['Sales'], label='Actual Data')\n",
    "plt.xlabel('TV')\n",
    "plt.ylabel('Sales')\n",
    "plt.title('TV vs Sales Regression')\n",
    "plt.legend()\n",
    "plt.show()"
   ]
  },
  {
   "cell_type": "code",
   "execution_count": 17,
   "metadata": {},
   "outputs": [],
   "source": [
    "# Calculate R² score\n",
    "from sklearn.metrics import r2_score\n",
    "r2 = r2_score(df['Sales'], df['Predicted_Y'])\n",
    "print(f'R² Score: {r2}')"
   ]
  }
 ],
 "metadata": {
  "kernelspec": {
   "display_name": "Python 3",
   "language": "python",
   "name": "python3"
  },
  "language_info": {
   "codemirror_mode": {
    "name": "ipython",
    "version": 3
   },
   "file_extension": ".py",
   "mimetype": "text/x-python",
   "name": "python",
   "nbconvert_exporter": "python",
   "pygments_lexer": "ipython3",
   "version": "3.8.5"
  }
 },
 "nbformat": 4,
 "nbformat_minor": 4
}
